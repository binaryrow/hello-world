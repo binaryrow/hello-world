{
  "nbformat": 4,
  "nbformat_minor": 0,
  "metadata": {
    "colab": {
      "name": "Copy of bathyscaphe.ipynb",
      "version": "0.3.2",
      "provenance": []
    },
    "kernelspec": {
      "name": "python3",
      "display_name": "Python 3"
    }
  },
  "cells": [
    {
      "cell_type": "markdown",
      "metadata": {
        "id": "view-in-github",
        "colab_type": "text"
      },
      "source": [
        "[View in Colaboratory](https://colab.research.google.com/github/binaryrow/hello-world/blob/master/Copy_of_bathyscaphe.ipynb)"
      ]
    },
    {
      "metadata": {
        "id": "MN2d3Erl4E9f",
        "colab_type": "code",
        "colab": {
          "base_uri": "https://localhost:8080/",
          "height": 51
        },
        "outputId": "675227ce-eed9-40a7-b8be-f387006d4fbd"
      },
      "cell_type": "code",
      "source": [
        "import numpy as np\n",
        "import random\n",
        "\n",
        "print (\"Hello, World!\")\n",
        "\n",
        "def password(length):\n",
        "    pw = str()\n",
        "    characters = \"abcdefghijklmnopqrstuvwxyzABCDEFGHIJKLMNOPQRSTUVWXYZ\" + \"0123456789\"\n",
        "    for i in range(length):\n",
        "        pw = pw + random.choice(characters)\n",
        "    return pw\n",
        "\n",
        "password(8)"
      ],
      "execution_count": 0,
      "outputs": [
        {
          "output_type": "stream",
          "text": [
            "Hello, World!\n"
          ],
          "name": "stdout"
        },
        {
          "output_type": "execute_result",
          "data": {
            "text/plain": [
              "'wkGcMk3Y'"
            ]
          },
          "metadata": {
            "tags": []
          },
          "execution_count": 4
        }
      ]
    }
  ]
}